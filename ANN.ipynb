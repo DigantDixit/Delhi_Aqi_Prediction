{
 "cells": [
  {
   "cell_type": "code",
   "execution_count": 1,
   "id": "441293cb",
   "metadata": {},
   "outputs": [],
   "source": [
    "import pandas as pd\n",
    "import numpy as np\n",
    "import matplotlib.pyplot as plt\n",
    "import seaborn as sns"
   ]
  },
  {
   "cell_type": "code",
   "execution_count": 2,
   "id": "840e3d5d",
   "metadata": {},
   "outputs": [],
   "source": [
    "df=pd.read_csv('data/Real-Data/Real_Combine.csv')"
   ]
  },
  {
   "cell_type": "code",
   "execution_count": 3,
   "id": "f63e96a3",
   "metadata": {},
   "outputs": [
    {
     "data": {
      "text/html": [
       "<div>\n",
       "<style scoped>\n",
       "    .dataframe tbody tr th:only-of-type {\n",
       "        vertical-align: middle;\n",
       "    }\n",
       "\n",
       "    .dataframe tbody tr th {\n",
       "        vertical-align: top;\n",
       "    }\n",
       "\n",
       "    .dataframe thead th {\n",
       "        text-align: right;\n",
       "    }\n",
       "</style>\n",
       "<table border=\"1\" class=\"dataframe\">\n",
       "  <thead>\n",
       "    <tr style=\"text-align: right;\">\n",
       "      <th></th>\n",
       "      <th>T</th>\n",
       "      <th>TM</th>\n",
       "      <th>Tm</th>\n",
       "      <th>H</th>\n",
       "      <th>PP</th>\n",
       "      <th>VV</th>\n",
       "      <th>V</th>\n",
       "      <th>VM</th>\n",
       "      <th>PM 2.5</th>\n",
       "    </tr>\n",
       "  </thead>\n",
       "  <tbody>\n",
       "    <tr>\n",
       "      <th>0</th>\n",
       "      <td>23.4</td>\n",
       "      <td>30.3</td>\n",
       "      <td>19.0</td>\n",
       "      <td>59.0</td>\n",
       "      <td>0.0</td>\n",
       "      <td>6.3</td>\n",
       "      <td>4.3</td>\n",
       "      <td>5.4</td>\n",
       "      <td>284.795833</td>\n",
       "    </tr>\n",
       "    <tr>\n",
       "      <th>1</th>\n",
       "      <td>22.4</td>\n",
       "      <td>30.3</td>\n",
       "      <td>16.9</td>\n",
       "      <td>57.0</td>\n",
       "      <td>0.0</td>\n",
       "      <td>6.9</td>\n",
       "      <td>3.3</td>\n",
       "      <td>7.6</td>\n",
       "      <td>219.720833</td>\n",
       "    </tr>\n",
       "    <tr>\n",
       "      <th>2</th>\n",
       "      <td>24.0</td>\n",
       "      <td>31.8</td>\n",
       "      <td>16.9</td>\n",
       "      <td>51.0</td>\n",
       "      <td>0.0</td>\n",
       "      <td>6.9</td>\n",
       "      <td>2.8</td>\n",
       "      <td>5.4</td>\n",
       "      <td>182.187500</td>\n",
       "    </tr>\n",
       "    <tr>\n",
       "      <th>3</th>\n",
       "      <td>22.8</td>\n",
       "      <td>30.2</td>\n",
       "      <td>17.6</td>\n",
       "      <td>55.0</td>\n",
       "      <td>0.0</td>\n",
       "      <td>7.7</td>\n",
       "      <td>3.7</td>\n",
       "      <td>7.6</td>\n",
       "      <td>154.037500</td>\n",
       "    </tr>\n",
       "    <tr>\n",
       "      <th>4</th>\n",
       "      <td>23.1</td>\n",
       "      <td>30.6</td>\n",
       "      <td>17.4</td>\n",
       "      <td>46.0</td>\n",
       "      <td>0.0</td>\n",
       "      <td>6.9</td>\n",
       "      <td>3.3</td>\n",
       "      <td>5.4</td>\n",
       "      <td>223.208333</td>\n",
       "    </tr>\n",
       "  </tbody>\n",
       "</table>\n",
       "</div>"
      ],
      "text/plain": [
       "      T    TM    Tm     H   PP   VV    V   VM      PM 2.5\n",
       "0  23.4  30.3  19.0  59.0  0.0  6.3  4.3  5.4  284.795833\n",
       "1  22.4  30.3  16.9  57.0  0.0  6.9  3.3  7.6  219.720833\n",
       "2  24.0  31.8  16.9  51.0  0.0  6.9  2.8  5.4  182.187500\n",
       "3  22.8  30.2  17.6  55.0  0.0  7.7  3.7  7.6  154.037500\n",
       "4  23.1  30.6  17.4  46.0  0.0  6.9  3.3  5.4  223.208333"
      ]
     },
     "execution_count": 3,
     "metadata": {},
     "output_type": "execute_result"
    }
   ],
   "source": [
    "df.head()"
   ]
  },
  {
   "cell_type": "code",
   "execution_count": 4,
   "id": "2850f4cb",
   "metadata": {},
   "outputs": [
    {
     "data": {
      "text/plain": [
       "T         0\n",
       "TM        0\n",
       "Tm        0\n",
       "H         0\n",
       "PP        0\n",
       "VV        0\n",
       "V         0\n",
       "VM        0\n",
       "PM 2.5    1\n",
       "dtype: int64"
      ]
     },
     "execution_count": 4,
     "metadata": {},
     "output_type": "execute_result"
    }
   ],
   "source": [
    "#chechk for null values\n",
    "df.isnull().sum()"
   ]
  },
  {
   "cell_type": "code",
   "execution_count": 5,
   "id": "6ef9cad5",
   "metadata": {},
   "outputs": [],
   "source": [
    "#drop null values\n",
    "df.dropna(inplace=True)"
   ]
  },
  {
   "cell_type": "code",
   "execution_count": 6,
   "id": "0d0d4754",
   "metadata": {},
   "outputs": [
    {
     "data": {
      "text/plain": [
       "(702, 9)"
      ]
     },
     "execution_count": 6,
     "metadata": {},
     "output_type": "execute_result"
    }
   ],
   "source": [
    "df.shape"
   ]
  },
  {
   "cell_type": "code",
   "execution_count": 7,
   "id": "621df2c8",
   "metadata": {},
   "outputs": [],
   "source": [
    "#independant featurd\n",
    "x=df.iloc[:,:-1]\n",
    "\n",
    "#Independant features\n",
    "y=df.iloc[:,-1]"
   ]
  },
  {
   "cell_type": "markdown",
   "id": "e209bfe3",
   "metadata": {},
   "source": [
    "# Test train split"
   ]
  },
  {
   "cell_type": "code",
   "execution_count": 8,
   "id": "4bf77b01",
   "metadata": {},
   "outputs": [],
   "source": [
    "from sklearn.model_selection import train_test_split\n",
    "x_train, x_test, y_train, y_test = train_test_split(x, y, test_size=0.3, random_state=0)"
   ]
  },
  {
   "cell_type": "markdown",
   "id": "4ee5d4e5",
   "metadata": {},
   "source": [
    "# ANN"
   ]
  },
  {
   "cell_type": "code",
   "execution_count": 9,
   "id": "bee9867c",
   "metadata": {},
   "outputs": [],
   "source": [
    "# Part 2 - Now let's make the ANN!\n",
    "\n",
    "# Importing the Keras libraries and packages\n",
    "import keras\n",
    "from keras.models import Sequential\n",
    "from keras.layers import Dense\n",
    "from keras.layers import LeakyReLU,PReLU,ELU\n",
    "from keras.layers import Dropout"
   ]
  },
  {
   "cell_type": "code",
   "execution_count": 63,
   "id": "bca2bee7",
   "metadata": {},
   "outputs": [
    {
     "name": "stdout",
     "output_type": "stream",
     "text": [
      "Model: \"sequential_10\"\n",
      "_________________________________________________________________\n",
      " Layer (type)                Output Shape              Param #   \n",
      "=================================================================\n",
      " dense_60 (Dense)            (None, 128)               1152      \n",
      "                                                                 \n",
      " dense_61 (Dense)            (None, 256)               33024     \n",
      "                                                                 \n",
      " dense_62 (Dense)            (None, 256)               65792     \n",
      "                                                                 \n",
      " dense_63 (Dense)            (None, 256)               65792     \n",
      "                                                                 \n",
      " dense_64 (Dense)            (None, 1)                 257       \n",
      "                                                                 \n",
      "=================================================================\n",
      "Total params: 166,017\n",
      "Trainable params: 166,017\n",
      "Non-trainable params: 0\n",
      "_________________________________________________________________\n",
      "Epoch 1/150\n",
      "33/33 [==============================] - 0s 6ms/step - loss: 80.4000 - mean_absolute_error: 80.4000 - val_loss: 65.1898 - val_mean_absolute_error: 65.1898\n",
      "Epoch 2/150\n",
      "33/33 [==============================] - 0s 3ms/step - loss: 68.5990 - mean_absolute_error: 68.5990 - val_loss: 63.7828 - val_mean_absolute_error: 63.7828\n",
      "Epoch 3/150\n",
      "33/33 [==============================] - 0s 3ms/step - loss: 67.2675 - mean_absolute_error: 67.2675 - val_loss: 61.5869 - val_mean_absolute_error: 61.5869\n",
      "Epoch 4/150\n",
      "33/33 [==============================] - 0s 3ms/step - loss: 65.1724 - mean_absolute_error: 65.1724 - val_loss: 60.5763 - val_mean_absolute_error: 60.5763\n",
      "Epoch 5/150\n",
      "33/33 [==============================] - 0s 3ms/step - loss: 64.6918 - mean_absolute_error: 64.6918 - val_loss: 60.3818 - val_mean_absolute_error: 60.3818\n",
      "Epoch 6/150\n",
      "33/33 [==============================] - 0s 4ms/step - loss: 63.4047 - mean_absolute_error: 63.4047 - val_loss: 59.9240 - val_mean_absolute_error: 59.9240\n",
      "Epoch 7/150\n",
      "33/33 [==============================] - 0s 3ms/step - loss: 65.3600 - mean_absolute_error: 65.3600 - val_loss: 58.6669 - val_mean_absolute_error: 58.6669\n",
      "Epoch 8/150\n",
      "33/33 [==============================] - 0s 3ms/step - loss: 62.8598 - mean_absolute_error: 62.8598 - val_loss: 57.8314 - val_mean_absolute_error: 57.8314\n",
      "Epoch 9/150\n",
      "33/33 [==============================] - 0s 3ms/step - loss: 63.9659 - mean_absolute_error: 63.9659 - val_loss: 57.3739 - val_mean_absolute_error: 57.3739\n",
      "Epoch 10/150\n",
      "33/33 [==============================] - 0s 3ms/step - loss: 61.5428 - mean_absolute_error: 61.5428 - val_loss: 55.9213 - val_mean_absolute_error: 55.9213\n",
      "Epoch 11/150\n",
      "33/33 [==============================] - 0s 3ms/step - loss: 59.4611 - mean_absolute_error: 59.4611 - val_loss: 54.7806 - val_mean_absolute_error: 54.7806\n",
      "Epoch 12/150\n",
      "33/33 [==============================] - 0s 3ms/step - loss: 58.3611 - mean_absolute_error: 58.3611 - val_loss: 63.0034 - val_mean_absolute_error: 63.0034\n",
      "Epoch 13/150\n",
      "33/33 [==============================] - 0s 3ms/step - loss: 58.0367 - mean_absolute_error: 58.0367 - val_loss: 55.5571 - val_mean_absolute_error: 55.5571\n",
      "Epoch 14/150\n",
      "33/33 [==============================] - 0s 3ms/step - loss: 55.6841 - mean_absolute_error: 55.6841 - val_loss: 56.7498 - val_mean_absolute_error: 56.7498\n",
      "Epoch 15/150\n",
      "33/33 [==============================] - 0s 3ms/step - loss: 57.0655 - mean_absolute_error: 57.0655 - val_loss: 55.3425 - val_mean_absolute_error: 55.3425\n",
      "Epoch 16/150\n",
      "33/33 [==============================] - 0s 3ms/step - loss: 59.6516 - mean_absolute_error: 59.6516 - val_loss: 55.1700 - val_mean_absolute_error: 55.1700\n",
      "Epoch 17/150\n",
      "33/33 [==============================] - 0s 4ms/step - loss: 55.4577 - mean_absolute_error: 55.4577 - val_loss: 50.3116 - val_mean_absolute_error: 50.3116\n",
      "Epoch 18/150\n",
      "33/33 [==============================] - 0s 3ms/step - loss: 56.8245 - mean_absolute_error: 56.8245 - val_loss: 58.4854 - val_mean_absolute_error: 58.4854\n",
      "Epoch 19/150\n",
      "33/33 [==============================] - 0s 3ms/step - loss: 56.4599 - mean_absolute_error: 56.4599 - val_loss: 50.4923 - val_mean_absolute_error: 50.4923\n",
      "Epoch 20/150\n",
      "33/33 [==============================] - 0s 4ms/step - loss: 55.1705 - mean_absolute_error: 55.1705 - val_loss: 49.5042 - val_mean_absolute_error: 49.5042\n",
      "Epoch 21/150\n",
      "33/33 [==============================] - 0s 3ms/step - loss: 53.0314 - mean_absolute_error: 53.0314 - val_loss: 52.5942 - val_mean_absolute_error: 52.5942\n",
      "Epoch 22/150\n",
      "33/33 [==============================] - 0s 3ms/step - loss: 50.4907 - mean_absolute_error: 50.4907 - val_loss: 48.9605 - val_mean_absolute_error: 48.9605\n",
      "Epoch 23/150\n",
      "33/33 [==============================] - 0s 4ms/step - loss: 51.2958 - mean_absolute_error: 51.2958 - val_loss: 49.9404 - val_mean_absolute_error: 49.9404\n",
      "Epoch 24/150\n",
      "33/33 [==============================] - 0s 4ms/step - loss: 51.6822 - mean_absolute_error: 51.6822 - val_loss: 52.0202 - val_mean_absolute_error: 52.0202\n",
      "Epoch 25/150\n",
      "33/33 [==============================] - 0s 3ms/step - loss: 52.2937 - mean_absolute_error: 52.2937 - val_loss: 50.0278 - val_mean_absolute_error: 50.0278\n",
      "Epoch 26/150\n",
      "33/33 [==============================] - 0s 3ms/step - loss: 57.0380 - mean_absolute_error: 57.0380 - val_loss: 47.6180 - val_mean_absolute_error: 47.6180\n",
      "Epoch 27/150\n",
      "33/33 [==============================] - 0s 4ms/step - loss: 51.1180 - mean_absolute_error: 51.1180 - val_loss: 52.8106 - val_mean_absolute_error: 52.8106\n",
      "Epoch 28/150\n",
      "33/33 [==============================] - 0s 3ms/step - loss: 50.8108 - mean_absolute_error: 50.8108 - val_loss: 49.2052 - val_mean_absolute_error: 49.2052\n",
      "Epoch 29/150\n",
      "33/33 [==============================] - 0s 3ms/step - loss: 50.8353 - mean_absolute_error: 50.8353 - val_loss: 52.4944 - val_mean_absolute_error: 52.4944\n",
      "Epoch 30/150\n",
      "33/33 [==============================] - 0s 3ms/step - loss: 52.7178 - mean_absolute_error: 52.7178 - val_loss: 47.9250 - val_mean_absolute_error: 47.9250\n",
      "Epoch 31/150\n",
      "33/33 [==============================] - 0s 3ms/step - loss: 49.4509 - mean_absolute_error: 49.4509 - val_loss: 49.2527 - val_mean_absolute_error: 49.2527\n",
      "Epoch 32/150\n",
      "33/33 [==============================] - 0s 3ms/step - loss: 49.1500 - mean_absolute_error: 49.1500 - val_loss: 46.8455 - val_mean_absolute_error: 46.8455\n",
      "Epoch 33/150\n",
      "33/33 [==============================] - 0s 4ms/step - loss: 49.5097 - mean_absolute_error: 49.5097 - val_loss: 52.5370 - val_mean_absolute_error: 52.5370\n",
      "Epoch 34/150\n",
      "33/33 [==============================] - 0s 4ms/step - loss: 50.9415 - mean_absolute_error: 50.9415 - val_loss: 49.0755 - val_mean_absolute_error: 49.0755\n",
      "Epoch 35/150\n",
      "33/33 [==============================] - 0s 3ms/step - loss: 48.7502 - mean_absolute_error: 48.7502 - val_loss: 47.0148 - val_mean_absolute_error: 47.0148\n",
      "Epoch 36/150\n",
      "33/33 [==============================] - 0s 3ms/step - loss: 49.6535 - mean_absolute_error: 49.6535 - val_loss: 47.6627 - val_mean_absolute_error: 47.6627\n",
      "Epoch 37/150\n",
      "33/33 [==============================] - 0s 3ms/step - loss: 47.8632 - mean_absolute_error: 47.8632 - val_loss: 53.6294 - val_mean_absolute_error: 53.6294\n",
      "Epoch 38/150\n",
      "33/33 [==============================] - 0s 2ms/step - loss: 53.3211 - mean_absolute_error: 53.3211 - val_loss: 51.3247 - val_mean_absolute_error: 51.3247\n",
      "Epoch 39/150\n",
      "33/33 [==============================] - 0s 3ms/step - loss: 51.8043 - mean_absolute_error: 51.8043 - val_loss: 46.7137 - val_mean_absolute_error: 46.7137\n",
      "Epoch 40/150\n",
      "33/33 [==============================] - 0s 3ms/step - loss: 49.8165 - mean_absolute_error: 49.8165 - val_loss: 48.7234 - val_mean_absolute_error: 48.7234\n",
      "Epoch 41/150\n",
      "33/33 [==============================] - 0s 3ms/step - loss: 49.0451 - mean_absolute_error: 49.0451 - val_loss: 56.1253 - val_mean_absolute_error: 56.1253\n",
      "Epoch 42/150\n",
      "33/33 [==============================] - 0s 3ms/step - loss: 49.8160 - mean_absolute_error: 49.8160 - val_loss: 47.4198 - val_mean_absolute_error: 47.4198\n",
      "Epoch 43/150\n"
     ]
    },
    {
     "name": "stdout",
     "output_type": "stream",
     "text": [
      "33/33 [==============================] - 0s 4ms/step - loss: 47.5660 - mean_absolute_error: 47.5660 - val_loss: 47.3972 - val_mean_absolute_error: 47.3972\n",
      "Epoch 44/150\n",
      "33/33 [==============================] - 0s 3ms/step - loss: 47.5440 - mean_absolute_error: 47.5440 - val_loss: 50.4378 - val_mean_absolute_error: 50.4378\n",
      "Epoch 45/150\n",
      "33/33 [==============================] - 0s 3ms/step - loss: 51.3337 - mean_absolute_error: 51.3337 - val_loss: 57.5076 - val_mean_absolute_error: 57.5076\n",
      "Epoch 46/150\n",
      "33/33 [==============================] - 0s 3ms/step - loss: 50.0943 - mean_absolute_error: 50.0943 - val_loss: 47.0429 - val_mean_absolute_error: 47.0429\n",
      "Epoch 47/150\n",
      "33/33 [==============================] - 0s 3ms/step - loss: 50.8063 - mean_absolute_error: 50.8063 - val_loss: 48.7738 - val_mean_absolute_error: 48.7738\n",
      "Epoch 48/150\n",
      "33/33 [==============================] - 0s 3ms/step - loss: 47.3555 - mean_absolute_error: 47.3555 - val_loss: 50.0221 - val_mean_absolute_error: 50.0221\n",
      "Epoch 49/150\n",
      "33/33 [==============================] - 0s 3ms/step - loss: 49.0311 - mean_absolute_error: 49.0311 - val_loss: 48.4071 - val_mean_absolute_error: 48.4071\n",
      "Epoch 50/150\n",
      "33/33 [==============================] - 0s 3ms/step - loss: 47.9669 - mean_absolute_error: 47.9669 - val_loss: 51.5728 - val_mean_absolute_error: 51.5728\n",
      "Epoch 51/150\n",
      "33/33 [==============================] - 0s 3ms/step - loss: 53.7879 - mean_absolute_error: 53.7879 - val_loss: 54.1598 - val_mean_absolute_error: 54.1598\n",
      "Epoch 52/150\n",
      "33/33 [==============================] - 0s 3ms/step - loss: 47.8406 - mean_absolute_error: 47.8406 - val_loss: 47.0967 - val_mean_absolute_error: 47.0967\n",
      "Epoch 53/150\n",
      "33/33 [==============================] - 0s 3ms/step - loss: 45.8484 - mean_absolute_error: 45.8484 - val_loss: 50.6443 - val_mean_absolute_error: 50.6443\n",
      "Epoch 54/150\n",
      "33/33 [==============================] - 0s 3ms/step - loss: 50.1418 - mean_absolute_error: 50.1418 - val_loss: 48.3964 - val_mean_absolute_error: 48.3964\n",
      "Epoch 55/150\n",
      "33/33 [==============================] - 0s 3ms/step - loss: 47.8433 - mean_absolute_error: 47.8433 - val_loss: 47.8146 - val_mean_absolute_error: 47.8146\n",
      "Epoch 56/150\n",
      "33/33 [==============================] - 0s 3ms/step - loss: 47.8832 - mean_absolute_error: 47.8832 - val_loss: 47.2089 - val_mean_absolute_error: 47.2089\n",
      "Epoch 57/150\n",
      "33/33 [==============================] - 0s 3ms/step - loss: 46.6212 - mean_absolute_error: 46.6212 - val_loss: 47.6836 - val_mean_absolute_error: 47.6836\n",
      "Epoch 58/150\n",
      "33/33 [==============================] - 0s 4ms/step - loss: 46.2388 - mean_absolute_error: 46.2388 - val_loss: 47.1438 - val_mean_absolute_error: 47.1438\n",
      "Epoch 59/150\n",
      "33/33 [==============================] - 0s 4ms/step - loss: 45.5885 - mean_absolute_error: 45.5885 - val_loss: 50.3954 - val_mean_absolute_error: 50.3954\n",
      "Epoch 60/150\n",
      "33/33 [==============================] - 0s 3ms/step - loss: 46.8933 - mean_absolute_error: 46.8933 - val_loss: 48.0330 - val_mean_absolute_error: 48.0330\n",
      "Epoch 61/150\n",
      "33/33 [==============================] - 0s 4ms/step - loss: 46.7939 - mean_absolute_error: 46.7939 - val_loss: 49.4224 - val_mean_absolute_error: 49.4224\n",
      "Epoch 62/150\n",
      "33/33 [==============================] - 0s 4ms/step - loss: 48.6822 - mean_absolute_error: 48.6821 - val_loss: 48.6212 - val_mean_absolute_error: 48.6212\n",
      "Epoch 63/150\n",
      "33/33 [==============================] - 0s 4ms/step - loss: 47.7890 - mean_absolute_error: 47.7890 - val_loss: 48.4622 - val_mean_absolute_error: 48.4622\n",
      "Epoch 64/150\n",
      "33/33 [==============================] - 0s 3ms/step - loss: 45.5287 - mean_absolute_error: 45.5287 - val_loss: 49.2645 - val_mean_absolute_error: 49.2645\n",
      "Epoch 65/150\n",
      "33/33 [==============================] - 0s 2ms/step - loss: 46.9411 - mean_absolute_error: 46.9411 - val_loss: 48.9107 - val_mean_absolute_error: 48.9107\n",
      "Epoch 66/150\n",
      "33/33 [==============================] - 0s 3ms/step - loss: 47.3881 - mean_absolute_error: 47.3881 - val_loss: 48.3948 - val_mean_absolute_error: 48.3948\n",
      "Epoch 67/150\n",
      "33/33 [==============================] - 0s 3ms/step - loss: 49.0027 - mean_absolute_error: 49.0027 - val_loss: 47.5363 - val_mean_absolute_error: 47.5363\n",
      "Epoch 68/150\n",
      "33/33 [==============================] - 0s 3ms/step - loss: 46.6239 - mean_absolute_error: 46.6239 - val_loss: 48.2499 - val_mean_absolute_error: 48.2499\n",
      "Epoch 69/150\n",
      "33/33 [==============================] - 0s 3ms/step - loss: 45.3518 - mean_absolute_error: 45.3518 - val_loss: 48.3043 - val_mean_absolute_error: 48.3043\n",
      "Epoch 70/150\n",
      "33/33 [==============================] - 0s 3ms/step - loss: 44.9078 - mean_absolute_error: 44.9078 - val_loss: 49.4786 - val_mean_absolute_error: 49.4786\n",
      "Epoch 71/150\n",
      "33/33 [==============================] - 0s 3ms/step - loss: 45.5905 - mean_absolute_error: 45.5905 - val_loss: 48.2751 - val_mean_absolute_error: 48.2751\n",
      "Epoch 72/150\n",
      "33/33 [==============================] - 0s 3ms/step - loss: 48.9186 - mean_absolute_error: 48.9186 - val_loss: 48.0439 - val_mean_absolute_error: 48.0439\n",
      "Epoch 73/150\n",
      "33/33 [==============================] - 0s 3ms/step - loss: 45.4900 - mean_absolute_error: 45.4900 - val_loss: 49.0146 - val_mean_absolute_error: 49.0146\n",
      "Epoch 74/150\n",
      "33/33 [==============================] - 0s 3ms/step - loss: 47.6266 - mean_absolute_error: 47.6266 - val_loss: 50.6464 - val_mean_absolute_error: 50.6464\n",
      "Epoch 75/150\n",
      "33/33 [==============================] - 0s 3ms/step - loss: 47.1235 - mean_absolute_error: 47.1235 - val_loss: 48.0428 - val_mean_absolute_error: 48.0428\n",
      "Epoch 76/150\n",
      "33/33 [==============================] - 0s 3ms/step - loss: 45.8544 - mean_absolute_error: 45.8544 - val_loss: 48.9855 - val_mean_absolute_error: 48.9855\n",
      "Epoch 77/150\n",
      "33/33 [==============================] - 0s 3ms/step - loss: 45.9101 - mean_absolute_error: 45.9101 - val_loss: 48.1379 - val_mean_absolute_error: 48.1379\n",
      "Epoch 78/150\n",
      "33/33 [==============================] - 0s 3ms/step - loss: 44.2802 - mean_absolute_error: 44.2802 - val_loss: 48.8625 - val_mean_absolute_error: 48.8625\n",
      "Epoch 79/150\n",
      "33/33 [==============================] - 0s 3ms/step - loss: 45.4447 - mean_absolute_error: 45.4447 - val_loss: 48.7487 - val_mean_absolute_error: 48.7487\n",
      "Epoch 80/150\n",
      "33/33 [==============================] - 0s 3ms/step - loss: 46.4708 - mean_absolute_error: 46.4708 - val_loss: 49.9112 - val_mean_absolute_error: 49.9112\n",
      "Epoch 81/150\n",
      "33/33 [==============================] - 0s 3ms/step - loss: 46.2973 - mean_absolute_error: 46.2973 - val_loss: 48.6928 - val_mean_absolute_error: 48.6928\n",
      "Epoch 82/150\n",
      "33/33 [==============================] - 0s 3ms/step - loss: 43.9859 - mean_absolute_error: 43.9859 - val_loss: 48.9523 - val_mean_absolute_error: 48.9523\n",
      "Epoch 83/150\n",
      "33/33 [==============================] - 0s 3ms/step - loss: 45.8333 - mean_absolute_error: 45.8333 - val_loss: 48.8083 - val_mean_absolute_error: 48.8083\n",
      "Epoch 84/150\n",
      "33/33 [==============================] - 0s 3ms/step - loss: 45.3463 - mean_absolute_error: 45.3463 - val_loss: 47.5749 - val_mean_absolute_error: 47.5749\n",
      "Epoch 85/150\n",
      "33/33 [==============================] - 0s 4ms/step - loss: 46.2907 - mean_absolute_error: 46.2907 - val_loss: 50.5961 - val_mean_absolute_error: 50.5961\n",
      "Epoch 86/150\n",
      "33/33 [==============================] - 0s 4ms/step - loss: 44.1991 - mean_absolute_error: 44.1991 - val_loss: 48.0636 - val_mean_absolute_error: 48.0636\n",
      "Epoch 87/150\n",
      "33/33 [==============================] - 0s 3ms/step - loss: 44.2926 - mean_absolute_error: 44.2926 - val_loss: 48.8502 - val_mean_absolute_error: 48.8502\n",
      "Epoch 88/150\n",
      "33/33 [==============================] - 0s 3ms/step - loss: 44.5445 - mean_absolute_error: 44.5446 - val_loss: 51.8765 - val_mean_absolute_error: 51.8765\n",
      "Epoch 89/150\n",
      "33/33 [==============================] - 0s 4ms/step - loss: 45.9773 - mean_absolute_error: 45.9773 - val_loss: 49.0788 - val_mean_absolute_error: 49.0788\n",
      "Epoch 90/150\n",
      "33/33 [==============================] - 0s 3ms/step - loss: 45.4201 - mean_absolute_error: 45.4201 - val_loss: 50.7692 - val_mean_absolute_error: 50.7692\n",
      "Epoch 91/150\n",
      "33/33 [==============================] - 0s 3ms/step - loss: 46.0087 - mean_absolute_error: 46.0087 - val_loss: 48.4292 - val_mean_absolute_error: 48.4292\n"
     ]
    },
    {
     "name": "stdout",
     "output_type": "stream",
     "text": [
      "Epoch 92/150\n",
      "33/33 [==============================] - 0s 5ms/step - loss: 47.4912 - mean_absolute_error: 47.4912 - val_loss: 51.8960 - val_mean_absolute_error: 51.8960\n",
      "Epoch 93/150\n",
      "33/33 [==============================] - 0s 3ms/step - loss: 45.1096 - mean_absolute_error: 45.1096 - val_loss: 50.3039 - val_mean_absolute_error: 50.3039\n",
      "Epoch 94/150\n",
      "33/33 [==============================] - 0s 3ms/step - loss: 45.5117 - mean_absolute_error: 45.5117 - val_loss: 48.3427 - val_mean_absolute_error: 48.3427\n",
      "Epoch 95/150\n",
      "33/33 [==============================] - 0s 3ms/step - loss: 43.8878 - mean_absolute_error: 43.8878 - val_loss: 47.9607 - val_mean_absolute_error: 47.9607\n",
      "Epoch 96/150\n",
      "33/33 [==============================] - 0s 3ms/step - loss: 47.0578 - mean_absolute_error: 47.0578 - val_loss: 48.2159 - val_mean_absolute_error: 48.2159\n",
      "Epoch 97/150\n",
      "33/33 [==============================] - 0s 3ms/step - loss: 45.6392 - mean_absolute_error: 45.6392 - val_loss: 49.8633 - val_mean_absolute_error: 49.8633\n",
      "Epoch 98/150\n",
      "33/33 [==============================] - 0s 3ms/step - loss: 45.7009 - mean_absolute_error: 45.7009 - val_loss: 47.5716 - val_mean_absolute_error: 47.5716\n",
      "Epoch 99/150\n",
      "33/33 [==============================] - 0s 3ms/step - loss: 43.7586 - mean_absolute_error: 43.7586 - val_loss: 49.5770 - val_mean_absolute_error: 49.5770\n",
      "Epoch 100/150\n",
      "33/33 [==============================] - 0s 3ms/step - loss: 46.0182 - mean_absolute_error: 46.0182 - val_loss: 47.7573 - val_mean_absolute_error: 47.7573\n",
      "Epoch 101/150\n",
      "33/33 [==============================] - 0s 3ms/step - loss: 45.3717 - mean_absolute_error: 45.3717 - val_loss: 49.1652 - val_mean_absolute_error: 49.1652\n",
      "Epoch 102/150\n",
      "33/33 [==============================] - 0s 3ms/step - loss: 44.6894 - mean_absolute_error: 44.6894 - val_loss: 48.5260 - val_mean_absolute_error: 48.5260\n",
      "Epoch 103/150\n",
      "33/33 [==============================] - 0s 3ms/step - loss: 46.4996 - mean_absolute_error: 46.4996 - val_loss: 50.9475 - val_mean_absolute_error: 50.9475\n",
      "Epoch 104/150\n",
      "33/33 [==============================] - 0s 3ms/step - loss: 45.3676 - mean_absolute_error: 45.3676 - val_loss: 48.7508 - val_mean_absolute_error: 48.7508\n",
      "Epoch 105/150\n",
      "33/33 [==============================] - 0s 3ms/step - loss: 46.1388 - mean_absolute_error: 46.1388 - val_loss: 51.3430 - val_mean_absolute_error: 51.3430\n",
      "Epoch 106/150\n",
      "33/33 [==============================] - 0s 3ms/step - loss: 44.8428 - mean_absolute_error: 44.8428 - val_loss: 48.9820 - val_mean_absolute_error: 48.9820\n",
      "Epoch 107/150\n",
      "33/33 [==============================] - 0s 3ms/step - loss: 44.4381 - mean_absolute_error: 44.4381 - val_loss: 47.5222 - val_mean_absolute_error: 47.5222\n",
      "Epoch 108/150\n",
      "33/33 [==============================] - 0s 3ms/step - loss: 43.6922 - mean_absolute_error: 43.6922 - val_loss: 49.8912 - val_mean_absolute_error: 49.8912\n",
      "Epoch 109/150\n",
      "33/33 [==============================] - 0s 3ms/step - loss: 45.1822 - mean_absolute_error: 45.1822 - val_loss: 49.9186 - val_mean_absolute_error: 49.9186\n",
      "Epoch 110/150\n",
      "33/33 [==============================] - 0s 3ms/step - loss: 43.8104 - mean_absolute_error: 43.8104 - val_loss: 50.2760 - val_mean_absolute_error: 50.2760\n",
      "Epoch 111/150\n",
      "33/33 [==============================] - 0s 3ms/step - loss: 46.1179 - mean_absolute_error: 46.1179 - val_loss: 47.9379 - val_mean_absolute_error: 47.9379\n",
      "Epoch 112/150\n",
      "33/33 [==============================] - 0s 3ms/step - loss: 45.3916 - mean_absolute_error: 45.3916 - val_loss: 49.1879 - val_mean_absolute_error: 49.1879\n",
      "Epoch 113/150\n",
      "33/33 [==============================] - 0s 3ms/step - loss: 44.4979 - mean_absolute_error: 44.4979 - val_loss: 50.0489 - val_mean_absolute_error: 50.0489\n",
      "Epoch 114/150\n",
      "33/33 [==============================] - 0s 3ms/step - loss: 42.8873 - mean_absolute_error: 42.8873 - val_loss: 48.4029 - val_mean_absolute_error: 48.4029\n",
      "Epoch 115/150\n",
      "33/33 [==============================] - 0s 3ms/step - loss: 45.8749 - mean_absolute_error: 45.8749 - val_loss: 49.6730 - val_mean_absolute_error: 49.6730\n",
      "Epoch 116/150\n",
      "33/33 [==============================] - 0s 3ms/step - loss: 44.1745 - mean_absolute_error: 44.1745 - val_loss: 50.0601 - val_mean_absolute_error: 50.0601\n",
      "Epoch 117/150\n",
      "33/33 [==============================] - 0s 3ms/step - loss: 43.7382 - mean_absolute_error: 43.7382 - val_loss: 50.2816 - val_mean_absolute_error: 50.2816\n",
      "Epoch 118/150\n",
      "33/33 [==============================] - 0s 3ms/step - loss: 44.6495 - mean_absolute_error: 44.6495 - val_loss: 49.4105 - val_mean_absolute_error: 49.4105\n",
      "Epoch 119/150\n",
      "33/33 [==============================] - 0s 3ms/step - loss: 44.8587 - mean_absolute_error: 44.8587 - val_loss: 52.5955 - val_mean_absolute_error: 52.5955\n",
      "Epoch 120/150\n",
      "33/33 [==============================] - 0s 3ms/step - loss: 44.9388 - mean_absolute_error: 44.9388 - val_loss: 48.7628 - val_mean_absolute_error: 48.7628\n",
      "Epoch 121/150\n",
      "33/33 [==============================] - 0s 3ms/step - loss: 43.7795 - mean_absolute_error: 43.7795 - val_loss: 48.2667 - val_mean_absolute_error: 48.2667\n",
      "Epoch 122/150\n",
      "33/33 [==============================] - 0s 3ms/step - loss: 45.6979 - mean_absolute_error: 45.6979 - val_loss: 49.0287 - val_mean_absolute_error: 49.0287\n",
      "Epoch 123/150\n",
      "33/33 [==============================] - 0s 3ms/step - loss: 43.2405 - mean_absolute_error: 43.2406 - val_loss: 48.9357 - val_mean_absolute_error: 48.9357\n",
      "Epoch 124/150\n",
      "33/33 [==============================] - 0s 3ms/step - loss: 42.0154 - mean_absolute_error: 42.0154 - val_loss: 49.8815 - val_mean_absolute_error: 49.8815\n",
      "Epoch 125/150\n",
      "33/33 [==============================] - 0s 3ms/step - loss: 44.2175 - mean_absolute_error: 44.2175 - val_loss: 48.6860 - val_mean_absolute_error: 48.6860\n",
      "Epoch 126/150\n",
      "33/33 [==============================] - 0s 3ms/step - loss: 45.8530 - mean_absolute_error: 45.8530 - val_loss: 55.6827 - val_mean_absolute_error: 55.6827\n",
      "Epoch 127/150\n",
      "33/33 [==============================] - 0s 3ms/step - loss: 43.6846 - mean_absolute_error: 43.6846 - val_loss: 49.3479 - val_mean_absolute_error: 49.3479\n",
      "Epoch 128/150\n",
      "33/33 [==============================] - 0s 3ms/step - loss: 43.9021 - mean_absolute_error: 43.9021 - val_loss: 48.5028 - val_mean_absolute_error: 48.5028\n",
      "Epoch 129/150\n",
      "33/33 [==============================] - 0s 3ms/step - loss: 45.3471 - mean_absolute_error: 45.3471 - val_loss: 50.8105 - val_mean_absolute_error: 50.8105\n",
      "Epoch 130/150\n",
      "33/33 [==============================] - 0s 3ms/step - loss: 44.2735 - mean_absolute_error: 44.2735 - val_loss: 48.3776 - val_mean_absolute_error: 48.3776\n",
      "Epoch 131/150\n",
      "33/33 [==============================] - 0s 4ms/step - loss: 42.4659 - mean_absolute_error: 42.4659 - val_loss: 46.9006 - val_mean_absolute_error: 46.9006\n",
      "Epoch 132/150\n",
      "33/33 [==============================] - 0s 3ms/step - loss: 41.3013 - mean_absolute_error: 41.3013 - val_loss: 49.2022 - val_mean_absolute_error: 49.2022\n",
      "Epoch 133/150\n",
      "33/33 [==============================] - 0s 3ms/step - loss: 42.8983 - mean_absolute_error: 42.8983 - val_loss: 49.1890 - val_mean_absolute_error: 49.1890\n",
      "Epoch 134/150\n",
      "33/33 [==============================] - 0s 3ms/step - loss: 43.3395 - mean_absolute_error: 43.3395 - val_loss: 50.9309 - val_mean_absolute_error: 50.9309\n",
      "Epoch 135/150\n",
      "33/33 [==============================] - 0s 3ms/step - loss: 44.6813 - mean_absolute_error: 44.6813 - val_loss: 49.4530 - val_mean_absolute_error: 49.4530\n",
      "Epoch 136/150\n",
      "33/33 [==============================] - 0s 3ms/step - loss: 45.4972 - mean_absolute_error: 45.4972 - val_loss: 47.1130 - val_mean_absolute_error: 47.1130\n",
      "Epoch 137/150\n",
      "33/33 [==============================] - 0s 3ms/step - loss: 42.7501 - mean_absolute_error: 42.7501 - val_loss: 51.9456 - val_mean_absolute_error: 51.9456\n",
      "Epoch 138/150\n",
      "33/33 [==============================] - 0s 3ms/step - loss: 42.0347 - mean_absolute_error: 42.0347 - val_loss: 49.5152 - val_mean_absolute_error: 49.5152\n",
      "Epoch 139/150\n",
      "33/33 [==============================] - 0s 3ms/step - loss: 43.2639 - mean_absolute_error: 43.2639 - val_loss: 49.1003 - val_mean_absolute_error: 49.1003\n",
      "Epoch 140/150\n"
     ]
    },
    {
     "name": "stdout",
     "output_type": "stream",
     "text": [
      "33/33 [==============================] - 0s 3ms/step - loss: 46.7812 - mean_absolute_error: 46.7812 - val_loss: 46.9094 - val_mean_absolute_error: 46.9094\n",
      "Epoch 141/150\n",
      "33/33 [==============================] - 0s 3ms/step - loss: 44.1161 - mean_absolute_error: 44.1161 - val_loss: 53.1447 - val_mean_absolute_error: 53.1447\n",
      "Epoch 142/150\n",
      "33/33 [==============================] - 0s 3ms/step - loss: 43.8720 - mean_absolute_error: 43.8720 - val_loss: 48.0237 - val_mean_absolute_error: 48.0237\n",
      "Epoch 143/150\n",
      "33/33 [==============================] - 0s 3ms/step - loss: 44.3148 - mean_absolute_error: 44.3148 - val_loss: 48.9441 - val_mean_absolute_error: 48.9441\n",
      "Epoch 144/150\n",
      "33/33 [==============================] - 0s 3ms/step - loss: 42.7118 - mean_absolute_error: 42.7118 - val_loss: 48.4283 - val_mean_absolute_error: 48.4283\n",
      "Epoch 145/150\n",
      "33/33 [==============================] - 0s 3ms/step - loss: 43.2908 - mean_absolute_error: 43.2908 - val_loss: 49.1714 - val_mean_absolute_error: 49.1714\n",
      "Epoch 146/150\n",
      "33/33 [==============================] - 0s 3ms/step - loss: 42.3646 - mean_absolute_error: 42.3646 - val_loss: 49.9138 - val_mean_absolute_error: 49.9138\n",
      "Epoch 147/150\n",
      "33/33 [==============================] - 0s 3ms/step - loss: 42.4988 - mean_absolute_error: 42.4988 - val_loss: 47.8838 - val_mean_absolute_error: 47.8838\n",
      "Epoch 148/150\n",
      "33/33 [==============================] - 0s 3ms/step - loss: 42.1761 - mean_absolute_error: 42.1761 - val_loss: 48.3962 - val_mean_absolute_error: 48.3962\n",
      "Epoch 149/150\n",
      "33/33 [==============================] - 0s 3ms/step - loss: 42.6271 - mean_absolute_error: 42.6271 - val_loss: 48.5831 - val_mean_absolute_error: 48.5831\n",
      "Epoch 150/150\n",
      "33/33 [==============================] - 0s 3ms/step - loss: 42.2651 - mean_absolute_error: 42.2651 - val_loss: 49.5297 - val_mean_absolute_error: 49.5297\n"
     ]
    }
   ],
   "source": [
    "NN_model = Sequential()\n",
    "\n",
    "# The Input Layer :\n",
    "NN_model.add(Dense(128, kernel_initializer='normal',input_dim = x_train.shape[1], activation='relu'))\n",
    "\n",
    "# The Hidden Layers :\n",
    "NN_model.add(Dense(256, kernel_initializer='normal',activation='relu'))\n",
    "NN_model.add(Dense(256, kernel_initializer='normal',activation='relu'))\n",
    "NN_model.add(Dense(256, kernel_initializer='normal',activation='relu'))\n",
    "\n",
    "# NN_model.add(Dense(256, kernel_initializer='normal',activation='relu'))\n",
    "# NN_model.add(Dense(256, kernel_initializer='normal',activation='relu'))\n",
    "# NN_model.add(Dense(256, kernel_initializer='normal',activation='relu'))\n",
    "\n",
    "# NN_model.add(Dense(256, kernel_initializer='normal',activation='relu'))\n",
    "# NN_model.add(Dense(256, kernel_initializer='normal',activation='relu'))\n",
    "# NN_model.add(Dense(256, kernel_initializer='normal',activation='relu'))\n",
    "\n",
    "# The Output Layer :\n",
    "NN_model.add(Dense(1, kernel_initializer='normal',activation='linear'))\n",
    "\n",
    "# Compile the network :\n",
    "NN_model.compile(loss='mean_absolute_error', optimizer='adam', metrics=['mean_absolute_error'])\n",
    "NN_model.summary()\n",
    "\n",
    "# Fitting the ANN to the Training set\n",
    "model_history=NN_model.fit(x_train, y_train,validation_split=0.33, batch_size = 10, epochs = 150)"
   ]
  },
  {
   "cell_type": "code",
   "execution_count": 64,
   "id": "f1bc495c",
   "metadata": {},
   "outputs": [
    {
     "name": "stdout",
     "output_type": "stream",
     "text": [
      "7/7 [==============================] - 0s 1ms/step\n"
     ]
    }
   ],
   "source": [
    "prediction=NN_model.predict(x_test)"
   ]
  },
  {
   "cell_type": "code",
   "execution_count": 65,
   "id": "8d962d0e",
   "metadata": {},
   "outputs": [
    {
     "data": {
      "text/plain": [
       "539    182.187500\n",
       "477     27.375000\n",
       "548    125.891667\n",
       "574     59.208333\n",
       "518    268.166667\n",
       "          ...    \n",
       "286     45.833333\n",
       "485     69.958333\n",
       "550    152.554167\n",
       "644     28.750000\n",
       "587    105.333333\n",
       "Name: PM 2.5, Length: 211, dtype: float64"
      ]
     },
     "execution_count": 65,
     "metadata": {},
     "output_type": "execute_result"
    }
   ],
   "source": [
    "y_test"
   ]
  },
  {
   "cell_type": "code",
   "execution_count": 66,
   "id": "72188b5c",
   "metadata": {},
   "outputs": [
    {
     "name": "stderr",
     "output_type": "stream",
     "text": [
      "E:\\softwares\\Anaconda\\lib\\site-packages\\seaborn\\distributions.py:2619: FutureWarning: `distplot` is a deprecated function and will be removed in a future version. Please adapt your code to use either `displot` (a figure-level function with similar flexibility) or `histplot` (an axes-level function for histograms).\n",
      "  warnings.warn(msg, FutureWarning)\n"
     ]
    },
    {
     "data": {
      "text/plain": [
       "<AxesSubplot:ylabel='Density'>"
      ]
     },
     "execution_count": 66,
     "metadata": {},
     "output_type": "execute_result"
    },
    {
     "data": {
      "image/png": "[encoded data removed]",
      "text/plain": [
       "<Figure size 432x288 with 1 Axes>"
      ]
     },
     "metadata": {
      "needs_background": "light"
     },
     "output_type": "display_data"
    }
   ],
   "source": [
    "sns.distplot(y_test.values.reshape(-1,1)-prediction)"
   ]
  },
  {
   "cell_type": "code",
   "execution_count": 67,
   "id": "2449c4b3",
   "metadata": {},
   "outputs": [
    {
     "data": {
      "text/plain": [
       "<matplotlib.collections.PathCollection at 0x1b5588a4130>"
      ]
     },
     "execution_count": 67,
     "metadata": {},
     "output_type": "execute_result"
    },
    {
     "data": {
      "image/png": "[encoded data removed]",
      "text/plain": [
       "<Figure size 432x288 with 1 Axes>"
      ]
     },
     "metadata": {
      "needs_background": "light"
     },
     "output_type": "display_data"
    }
   ],
   "source": [
    "plt.scatter(y_test,prediction)\n"
   ]
  },
  {
   "cell_type": "code",
   "execution_count": 68,
   "id": "b5a4e889",
   "metadata": {},
   "outputs": [
    {
     "name": "stdout",
     "output_type": "stream",
     "text": [
      "MAE: 49.778886221935394\n",
      "MSE: 4774.049328213202\n",
      "RMSE: 69.09449564338104\n"
     ]
    }
   ],
   "source": [
    "from sklearn import metrics\n",
    "print('MAE:', metrics.mean_absolute_error(y_test, prediction))\n",
    "print('MSE:', metrics.mean_squared_error(y_test, prediction))\n",
    "print('RMSE:', np.sqrt(metrics.mean_squared_error(y_test, prediction)))"
   ]
  },
  {
   "cell_type": "code",
   "execution_count": 69,
   "id": "d46977ca",
   "metadata": {},
   "outputs": [],
   "source": [
    "import pickle "
   ]
  },
  {
   "cell_type": "code",
   "execution_count": 70,
   "id": "e37cff87",
   "metadata": {},
   "outputs": [
    {
     "name": "stdout",
     "output_type": "stream",
     "text": [
      "INFO:tensorflow:Assets written to: ram://8117eccd-9b10-4e58-bdf8-833952230056/assets\n"
     ]
    }
   ],
   "source": [
    "# open a file, where you ant to store the data\n",
    "file = open('ANN.pkl', 'wb')\n",
    "\n",
    "# dump information to that file\n",
    "pickle.dump(NN_model, file)"
   ]
  },
  {
   "cell_type": "code",
   "execution_count": null,
   "id": "5b1f95e5",
   "metadata": {},
   "outputs": [],
   "source": []
  }
 ],
 "metadata": {
  "kernelspec": {
   "display_name": "Python 3 (ipykernel)",
   "language": "python",
   "name": "python3"
  },
  "language_info": {
   "codemirror_mode": {
    "name": "ipython",
    "version": 3
   },
   "file_extension": ".py",
   "mimetype": "text/x-python",
   "name": "python",
   "nbconvert_exporter": "python",
   "pygments_lexer": "ipython3",
   "version": "3.9.7"
  }
 },
 "nbformat": 4,
 "nbformat_minor": 5
}
